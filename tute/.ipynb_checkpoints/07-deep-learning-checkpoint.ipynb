{
 "cells": [
  {
   "cell_type": "markdown",
   "metadata": {},
   "source": [
    "# Deep Learning with keras"
   ]
  },
  {
   "cell_type": "markdown",
   "metadata": {},
   "source": [
    "In this workshop, we will try to build some feedforward models to do sentiment analysis, using keras, a deep learning library: https://keras.io/\n",
    "\n",
    "You will need pandas, keras (2.3.1) and tensorflow (2.1.0; and their dependencies) to run this code (pip install pandas keras==2.3.1 tensorflow-cpu==2.1.0)."
   ]
  },
  {
   "cell_type": "markdown",
   "metadata": {},
   "source": [
    "First let's prepare the data. We are using 1000 yelp reviews, nnotated with either positive or negative sentiments."
   ]
  },
  {
   "cell_type": "code",
   "execution_count": 1,
   "metadata": {},
   "outputs": [
    {
     "name": "stdout",
     "output_type": "stream",
     "text": [
      "Number of sentences = 1000\n",
      "\n",
      "Data:\n",
      "                                            sentence  label\n",
      "0                           Wow... Loved this place.      1\n",
      "1                                 Crust is not good.      0\n",
      "2          Not tasty and the texture was just nasty.      0\n",
      "3  Stopped by during the late May bank holiday of...      1\n",
      "4  The selection on the menu was great and so wer...      1\n",
      "5     Now I am getting angry and I want my damn pho.      0\n",
      "6              Honeslty it didn't taste THAT fresh.)      0\n",
      "7  The potatoes were like rubber and you could te...      0\n",
      "8                          The fries were great too.      1\n",
      "9                                     A great touch.      1\n"
     ]
    }
   ],
   "source": [
    "import pandas as pd\n",
    "\n",
    "corpus = \"07-yelp-dataset.txt\"\n",
    "df = pd.read_csv(corpus, names=['sentence', 'label'], sep='\\t')\n",
    "print(\"Number of sentences =\", len(df))\n",
    "print(\"\\nData:\")\n",
    "print(df.iloc[:10])"
   ]
  },
  {
   "cell_type": "markdown",
   "metadata": {},
   "source": [
    "Next, let's create the train/dev/test partitions"
   ]
  },
  {
   "cell_type": "code",
   "execution_count": 2,
   "metadata": {},
   "outputs": [
    {
     "name": "stdout",
     "output_type": "stream",
     "text": [
      "1 Wow... Loved this place.\n",
      "0 I'm super pissd.\n",
      "0 Spend your money elsewhere.\n"
     ]
    }
   ],
   "source": [
    "import random\n",
    "import numpy as np\n",
    "\n",
    "sentences = df['sentence'].values\n",
    "labels = df['label'].values\n",
    "\n",
    "#partition data into 80/10/10 for train/dev/test\n",
    "sentences_train, y_train = sentences[:800], labels[:800]\n",
    "sentences_dev, y_dev = sentences[800:900], labels[800:900]\n",
    "sentences_test, y_test = sentences[900:1000], labels[900:1000]\n",
    "\n",
    "#convert label list into arrays\n",
    "y_train = np.array(y_train)\n",
    "y_dev = np.array(y_dev)\n",
    "y_test = np.array(y_test)\n",
    "\n",
    "print(y_train[0], sentences_train[0])\n",
    "print(y_dev[0], sentences_dev[0])\n",
    "print(y_test[0], sentences_test[0])"
   ]
  },
  {
   "cell_type": "markdown",
   "metadata": {},
   "source": [
    "Let's tokenize the text. In this workshop, we'll use the ``tokenizer`` function provided by keras. Once the data is tokenized, we can then use ``texts_to_matrix`` to get the bag-of-words representation for each document."
   ]
  },
  {
   "cell_type": "code",
   "execution_count": 3,
   "metadata": {},
   "outputs": [
    {
     "name": "stderr",
     "output_type": "stream",
     "text": [
      "Using TensorFlow backend.\n",
      "/Users/gey3/opt/anaconda3/lib/python3.7/site-packages/tensorflow/python/framework/dtypes.py:516: FutureWarning: Passing (type, 1) or '1type' as a synonym of type is deprecated; in a future version of numpy, it will be understood as (type, (1,)) / '(1,)type'.\n",
      "  _np_qint8 = np.dtype([(\"qint8\", np.int8, 1)])\n",
      "/Users/gey3/opt/anaconda3/lib/python3.7/site-packages/tensorflow/python/framework/dtypes.py:517: FutureWarning: Passing (type, 1) or '1type' as a synonym of type is deprecated; in a future version of numpy, it will be understood as (type, (1,)) / '(1,)type'.\n",
      "  _np_quint8 = np.dtype([(\"quint8\", np.uint8, 1)])\n",
      "/Users/gey3/opt/anaconda3/lib/python3.7/site-packages/tensorflow/python/framework/dtypes.py:518: FutureWarning: Passing (type, 1) or '1type' as a synonym of type is deprecated; in a future version of numpy, it will be understood as (type, (1,)) / '(1,)type'.\n",
      "  _np_qint16 = np.dtype([(\"qint16\", np.int16, 1)])\n",
      "/Users/gey3/opt/anaconda3/lib/python3.7/site-packages/tensorflow/python/framework/dtypes.py:519: FutureWarning: Passing (type, 1) or '1type' as a synonym of type is deprecated; in a future version of numpy, it will be understood as (type, (1,)) / '(1,)type'.\n",
      "  _np_quint16 = np.dtype([(\"quint16\", np.uint16, 1)])\n",
      "/Users/gey3/opt/anaconda3/lib/python3.7/site-packages/tensorflow/python/framework/dtypes.py:520: FutureWarning: Passing (type, 1) or '1type' as a synonym of type is deprecated; in a future version of numpy, it will be understood as (type, (1,)) / '(1,)type'.\n",
      "  _np_qint32 = np.dtype([(\"qint32\", np.int32, 1)])\n",
      "/Users/gey3/opt/anaconda3/lib/python3.7/site-packages/tensorflow/python/framework/dtypes.py:525: FutureWarning: Passing (type, 1) or '1type' as a synonym of type is deprecated; in a future version of numpy, it will be understood as (type, (1,)) / '(1,)type'.\n",
      "  np_resource = np.dtype([(\"resource\", np.ubyte, 1)])\n",
      "/Users/gey3/opt/anaconda3/lib/python3.7/site-packages/tensorboard/compat/tensorflow_stub/dtypes.py:541: FutureWarning: Passing (type, 1) or '1type' as a synonym of type is deprecated; in a future version of numpy, it will be understood as (type, (1,)) / '(1,)type'.\n",
      "  _np_qint8 = np.dtype([(\"qint8\", np.int8, 1)])\n",
      "/Users/gey3/opt/anaconda3/lib/python3.7/site-packages/tensorboard/compat/tensorflow_stub/dtypes.py:542: FutureWarning: Passing (type, 1) or '1type' as a synonym of type is deprecated; in a future version of numpy, it will be understood as (type, (1,)) / '(1,)type'.\n",
      "  _np_quint8 = np.dtype([(\"quint8\", np.uint8, 1)])\n",
      "/Users/gey3/opt/anaconda3/lib/python3.7/site-packages/tensorboard/compat/tensorflow_stub/dtypes.py:543: FutureWarning: Passing (type, 1) or '1type' as a synonym of type is deprecated; in a future version of numpy, it will be understood as (type, (1,)) / '(1,)type'.\n",
      "  _np_qint16 = np.dtype([(\"qint16\", np.int16, 1)])\n",
      "/Users/gey3/opt/anaconda3/lib/python3.7/site-packages/tensorboard/compat/tensorflow_stub/dtypes.py:544: FutureWarning: Passing (type, 1) or '1type' as a synonym of type is deprecated; in a future version of numpy, it will be understood as (type, (1,)) / '(1,)type'.\n",
      "  _np_quint16 = np.dtype([(\"quint16\", np.uint16, 1)])\n",
      "/Users/gey3/opt/anaconda3/lib/python3.7/site-packages/tensorboard/compat/tensorflow_stub/dtypes.py:545: FutureWarning: Passing (type, 1) or '1type' as a synonym of type is deprecated; in a future version of numpy, it will be understood as (type, (1,)) / '(1,)type'.\n",
      "  _np_qint32 = np.dtype([(\"qint32\", np.int32, 1)])\n",
      "/Users/gey3/opt/anaconda3/lib/python3.7/site-packages/tensorboard/compat/tensorflow_stub/dtypes.py:550: FutureWarning: Passing (type, 1) or '1type' as a synonym of type is deprecated; in a future version of numpy, it will be understood as (type, (1,)) / '(1,)type'.\n",
      "  np_resource = np.dtype([(\"resource\", np.ubyte, 1)])\n"
     ]
    },
    {
     "name": "stdout",
     "output_type": "stream",
     "text": [
      "Vocab size = 1811\n",
      "[0. 0. 0. ... 0. 0. 0.]\n"
     ]
    }
   ],
   "source": [
    "from keras.preprocessing.text import Tokenizer\n",
    "\n",
    "tokenizer = Tokenizer(oov_token=\"<UNK>\")\n",
    "tokenizer.fit_on_texts(sentences_train)\n",
    "\n",
    "x_train = tokenizer.texts_to_matrix(sentences_train, mode=\"count\") #BOW representation\n",
    "x_dev = tokenizer.texts_to_matrix(sentences_dev, mode=\"count\") #BOW representation\n",
    "x_test = tokenizer.texts_to_matrix(sentences_test, mode=\"count\") #BOW representation\n",
    "\n",
    "vocab_size = x_train.shape[1]\n",
    "print(\"Vocab size =\", vocab_size)\n",
    "print(x_train[0])"
   ]
  },
  {
   "cell_type": "markdown",
   "metadata": {},
   "source": [
    "Before we build a neural network model, let's see how well logistic regression do with this dataset."
   ]
  },
  {
   "cell_type": "code",
   "execution_count": 4,
   "metadata": {},
   "outputs": [
    {
     "name": "stdout",
     "output_type": "stream",
     "text": [
      "Accuracy: 0.69\n"
     ]
    }
   ],
   "source": [
    "from sklearn.linear_model import LogisticRegression\n",
    "\n",
    "classifier = LogisticRegression()\n",
    "classifier.fit(x_train, y_train)\n",
    "score = classifier.score(x_test, y_test)\n",
    "\n",
    "print(\"Accuracy:\", score)"
   ]
  },
  {
   "cell_type": "markdown",
   "metadata": {},
   "source": [
    "The logistic regression result is not too bad, and it will serve as a baseline for the deep learning models.\n",
    "\n",
    "Now let's build a very simple feedforward network. Here the input layer is the BOW features, and we have one hidden layer (dimension = 10) and an output layer in the model."
   ]
  },
  {
   "cell_type": "code",
   "execution_count": 5,
   "metadata": {},
   "outputs": [
    {
     "name": "stdout",
     "output_type": "stream",
     "text": [
      "WARNING:tensorflow:From /Users/gey3/opt/anaconda3/lib/python3.7/site-packages/tensorflow/python/ops/nn_impl.py:180: add_dispatch_support.<locals>.wrapper (from tensorflow.python.ops.array_ops) is deprecated and will be removed in a future version.\n",
      "Instructions for updating:\n",
      "Use tf.where in 2.0, which has the same broadcast rule as np.where\n",
      "Model: \"feedforward-bow-input\"\n",
      "_________________________________________________________________\n",
      "Layer (type)                 Output Shape              Param #   \n",
      "=================================================================\n",
      "dense_1 (Dense)              (None, 10)                18120     \n",
      "_________________________________________________________________\n",
      "dense_2 (Dense)              (None, 1)                 11        \n",
      "=================================================================\n",
      "Total params: 18,131\n",
      "Trainable params: 18,131\n",
      "Non-trainable params: 0\n",
      "_________________________________________________________________\n"
     ]
    }
   ],
   "source": [
    "from keras.models import Sequential\n",
    "from keras import layers\n",
    "\n",
    "#model definition\n",
    "model = Sequential(name=\"feedforward-bow-input\")\n",
    "model.add(layers.Dense(10, input_dim=vocab_size, activation='relu'))\n",
    "model.add(layers.Dense(1, activation='sigmoid'))\n",
    "\n",
    "#since it's a binary classification problem, we use a binary cross entropy loss here\n",
    "model.compile(loss='binary_crossentropy', optimizer='adam', metrics=['accuracy'])\n",
    "model.summary()"
   ]
  },
  {
   "cell_type": "markdown",
   "metadata": {},
   "source": [
    "Let's train the model. Notice that there are a few hyper-parameters here, e.g. hidden layer size, number of epochs and batch_size, and in practice these hyper-parameters should be tuned according to the development data to get an optimal model. In this workshop we'll use 20 epochs and a batch size of 10 (no further tuning). Once the model is trained, we'll compute the test accuracy performance."
   ]
  },
  {
   "cell_type": "code",
   "execution_count": 6,
   "metadata": {},
   "outputs": [
    {
     "name": "stdout",
     "output_type": "stream",
     "text": [
      "WARNING:tensorflow:From /Users/gey3/opt/anaconda3/lib/python3.7/site-packages/keras/backend/tensorflow_backend.py:422: The name tf.global_variables is deprecated. Please use tf.compat.v1.global_variables instead.\n",
      "\n",
      "Train on 800 samples, validate on 100 samples\n",
      "Epoch 1/20\n",
      "800/800 [==============================] - 1s 821us/step - loss: 0.6769 - accuracy: 0.6037 - val_loss: 0.6750 - val_accuracy: 0.5800\n",
      "Epoch 2/20\n",
      "800/800 [==============================] - 0s 210us/step - loss: 0.5958 - accuracy: 0.7300 - val_loss: 0.6336 - val_accuracy: 0.6200\n",
      "Epoch 3/20\n",
      "800/800 [==============================] - 0s 210us/step - loss: 0.4923 - accuracy: 0.8450 - val_loss: 0.5714 - val_accuracy: 0.7100\n",
      "Epoch 4/20\n",
      "800/800 [==============================] - 0s 215us/step - loss: 0.3914 - accuracy: 0.9050 - val_loss: 0.5292 - val_accuracy: 0.7500\n",
      "Epoch 5/20\n",
      "800/800 [==============================] - 0s 202us/step - loss: 0.3103 - accuracy: 0.9500 - val_loss: 0.4856 - val_accuracy: 0.7800\n",
      "Epoch 6/20\n",
      "800/800 [==============================] - 0s 214us/step - loss: 0.2473 - accuracy: 0.9700 - val_loss: 0.4800 - val_accuracy: 0.7800\n",
      "Epoch 7/20\n",
      "800/800 [==============================] - 0s 202us/step - loss: 0.1992 - accuracy: 0.9775 - val_loss: 0.4419 - val_accuracy: 0.8100\n",
      "Epoch 8/20\n",
      "800/800 [==============================] - 0s 209us/step - loss: 0.1625 - accuracy: 0.9825 - val_loss: 0.4372 - val_accuracy: 0.8000\n",
      "Epoch 9/20\n",
      "800/800 [==============================] - 0s 208us/step - loss: 0.1336 - accuracy: 0.9875 - val_loss: 0.4250 - val_accuracy: 0.8000\n",
      "Epoch 10/20\n",
      "800/800 [==============================] - 0s 222us/step - loss: 0.1117 - accuracy: 0.9912 - val_loss: 0.4202 - val_accuracy: 0.8200\n",
      "Epoch 11/20\n",
      "800/800 [==============================] - 0s 202us/step - loss: 0.0938 - accuracy: 0.9925 - val_loss: 0.4150 - val_accuracy: 0.8200\n",
      "Epoch 12/20\n",
      "800/800 [==============================] - 0s 211us/step - loss: 0.0795 - accuracy: 0.9937 - val_loss: 0.4223 - val_accuracy: 0.8200\n",
      "Epoch 13/20\n",
      "800/800 [==============================] - 0s 212us/step - loss: 0.0679 - accuracy: 0.9962 - val_loss: 0.4200 - val_accuracy: 0.8200\n",
      "Epoch 14/20\n",
      "800/800 [==============================] - 0s 209us/step - loss: 0.0588 - accuracy: 0.9975 - val_loss: 0.4230 - val_accuracy: 0.8200\n",
      "Epoch 15/20\n",
      "800/800 [==============================] - 0s 206us/step - loss: 0.0511 - accuracy: 0.9987 - val_loss: 0.4270 - val_accuracy: 0.8200\n",
      "Epoch 16/20\n",
      "800/800 [==============================] - 0s 205us/step - loss: 0.0447 - accuracy: 0.9987 - val_loss: 0.4265 - val_accuracy: 0.8200\n",
      "Epoch 17/20\n",
      "800/800 [==============================] - 0s 208us/step - loss: 0.0392 - accuracy: 1.0000 - val_loss: 0.4295 - val_accuracy: 0.8100\n",
      "Epoch 18/20\n",
      "800/800 [==============================] - 0s 206us/step - loss: 0.0346 - accuracy: 1.0000 - val_loss: 0.4438 - val_accuracy: 0.8100\n",
      "Epoch 19/20\n",
      "800/800 [==============================] - 0s 208us/step - loss: 0.0309 - accuracy: 1.0000 - val_loss: 0.4411 - val_accuracy: 0.8100\n",
      "Epoch 20/20\n",
      "800/800 [==============================] - 0s 210us/step - loss: 0.0274 - accuracy: 1.0000 - val_loss: 0.4565 - val_accuracy: 0.8100\n",
      "\n",
      "Testing Accuracy:  0.7200\n"
     ]
    }
   ],
   "source": [
    "#training\n",
    "model.fit(x_train, y_train, epochs=20, verbose=True, validation_data=(x_dev, y_dev), batch_size=10)\n",
    "\n",
    "loss, accuracy = model.evaluate(x_test, y_test, verbose=False)\n",
    "print(\"\\nTesting Accuracy:  {:.4f}\".format(accuracy))"
   ]
  },
  {
   "cell_type": "markdown",
   "metadata": {},
   "source": [
    "How does the performance compare to logistic regression? If you run it a few times you may find that it gives slightly different numbers, and that is due to random initialisation of the model parameters."
   ]
  },
  {
   "cell_type": "markdown",
   "metadata": {},
   "source": [
    "Even though we did not explicitly define any word embeddings in the model architecture, they are in our model: in the weights between the input and the hidden layer. The hidden layer can therefore be interpreted as a sum of word embeddings for each input document.\n",
    "\n",
    "Let's fetch the word embeddings of some words, and look at their cosine similarity, and see if they make any sense."
   ]
  },
  {
   "cell_type": "code",
   "execution_count": 7,
   "metadata": {},
   "outputs": [
    {
     "name": "stdout",
     "output_type": "stream",
     "text": [
      "[ 0.2605143   0.28397223  0.22825333  0.21628253 -0.21594507 -0.19263539\n",
      "  0.22666426  0.22384046  0.2615361  -0.26088807]\n",
      "love vs. like = 0.7994269\n",
      "love vs. lukewarm = -0.9525673\n",
      "love vs. bad = -0.9723945\n",
      "lukewarm vs. bad = 0.96985143\n"
     ]
    }
   ],
   "source": [
    "from numpy import dot\n",
    "from numpy.linalg import norm\n",
    "\n",
    "embeddings = model.get_layer(index=0).get_weights()[0] #word embeddings layer\n",
    "\n",
    "emb_love = embeddings[tokenizer.word_index[\"love\"]] #embeddings for 'love'\n",
    "emb_like = embeddings[tokenizer.word_index[\"like\"]]\n",
    "emb_lukewarm = embeddings[tokenizer.word_index[\"lukewarm\"]]\n",
    "emb_bad = embeddings[tokenizer.word_index[\"bad\"]]\n",
    "\n",
    "print(emb_love)\n",
    "\n",
    "def cos_sim(a, b):\n",
    "    return dot(a, b)/(norm(a)*norm(b))\n",
    "\n",
    "print(\"love vs. like =\", cos_sim(emb_love, emb_like))\n",
    "print(\"love vs. lukewarm =\", cos_sim(emb_love, emb_lukewarm))\n",
    "print(\"love vs. bad =\", cos_sim(emb_love, emb_bad))\n",
    "print(\"lukewarm vs. bad =\", cos_sim(emb_lukewarm, emb_bad))"
   ]
  },
  {
   "cell_type": "markdown",
   "metadata": {},
   "source": [
    "Not bad. You should find that for *love* and *like*, which are both positive sentiment words, produce high cosine similarity. Similar observations for *lukewarm* and *bad*. But when we compare opposite polarity words like *love* and *bad*, we get negative cosine similarity values."
   ]
  },
  {
   "cell_type": "markdown",
   "metadata": {},
   "source": [
    "Next, we are going to build another feed-forward model, but this time, instead of using BOW features as input, we want to use the word sequence as input (so order of words is preserved). It is usually not straightforward to do this for classical machine learning models, but with neural networks and embeddings, it's pretty straightforward.\n",
    "\n",
    "Let's first tokenise the input documents into word sequences."
   ]
  },
  {
   "cell_type": "code",
   "execution_count": 8,
   "metadata": {},
   "outputs": [
    {
     "name": "stdout",
     "output_type": "stream",
     "text": [
      "[354, 138, 9, 17]\n"
     ]
    }
   ],
   "source": [
    "#tokenise the input into word sequences\n",
    "\n",
    "xseq_train = tokenizer.texts_to_sequences(sentences_train)\n",
    "xseq_dev = tokenizer.texts_to_sequences(sentences_dev)\n",
    "xseq_test = tokenizer.texts_to_sequences(sentences_test)\n",
    "\n",
    "print(xseq_train[0])"
   ]
  },
  {
   "cell_type": "markdown",
   "metadata": {},
   "source": [
    "Because documents have variable lengths, we need to first 'pad' them to make all documents have the same length. keras uses word index 0 to represent 'pad symbols'."
   ]
  },
  {
   "cell_type": "code",
   "execution_count": 9,
   "metadata": {},
   "outputs": [
    {
     "name": "stdout",
     "output_type": "stream",
     "text": [
      "[354 138   9  17   0   0   0   0   0   0   0   0   0   0   0   0   0   0\n",
      "   0   0   0   0   0   0   0   0   0   0   0   0]\n"
     ]
    }
   ],
   "source": [
    "from keras.preprocessing.sequence import pad_sequences\n",
    "\n",
    "maxlen = 30\n",
    "xseq_train = pad_sequences(xseq_train, padding='post', maxlen=maxlen)\n",
    "xseq_dev = pad_sequences(xseq_dev, padding='post', maxlen=maxlen)\n",
    "xseq_test = pad_sequences(xseq_test, padding='post', maxlen=maxlen)\n",
    "print(xseq_train[0])"
   ]
  },
  {
   "cell_type": "markdown",
   "metadata": {},
   "source": [
    "Now let's build our second model. This model first embeds each word in the input sequence into embeddings, and then concatenate the word embeddings together to represent input sequence. The ``Flatten`` function you see after the embedding layer is essentially doing the concatenation, by 'chaining' the list of word embeddings into a very long vector.\n",
    "\n",
    "If our word embeddings has a dimension 10, and our documents always have 30 words (padded), then here the concatenated word embeddings have a dimension of 10 x 30 = 300. \n",
    "\n",
    "The concatenated word embeddings undergo a linear transformation with non-linear activations (``layers.Dense(10, activation='relu')``), producing a hidden representation with a dimension of 10. It is then passed to the output layer."
   ]
  },
  {
   "cell_type": "code",
   "execution_count": 10,
   "metadata": {},
   "outputs": [
    {
     "name": "stdout",
     "output_type": "stream",
     "text": [
      "Model: \"feedforward-sequence-input\"\n",
      "_________________________________________________________________\n",
      "Layer (type)                 Output Shape              Param #   \n",
      "=================================================================\n",
      "embedding_1 (Embedding)      (None, 30, 10)            18110     \n",
      "_________________________________________________________________\n",
      "flatten_1 (Flatten)          (None, 300)               0         \n",
      "_________________________________________________________________\n",
      "dense_3 (Dense)              (None, 10)                3010      \n",
      "_________________________________________________________________\n",
      "dense_4 (Dense)              (None, 1)                 11        \n",
      "=================================================================\n",
      "Total params: 21,131\n",
      "Trainable params: 21,131\n",
      "Non-trainable params: 0\n",
      "_________________________________________________________________\n"
     ]
    }
   ],
   "source": [
    "embedding_dim = 10\n",
    "\n",
    "#word order preserved with this architecture\n",
    "model2 = Sequential(name=\"feedforward-sequence-input\")\n",
    "model2.add(layers.Embedding(input_dim=vocab_size, \n",
    "                           output_dim=embedding_dim, \n",
    "                           input_length=maxlen))\n",
    "model2.add(layers.Flatten())\n",
    "model2.add(layers.Dense(10, activation='relu'))\n",
    "model2.add(layers.Dense(1, activation='sigmoid'))\n",
    "model2.compile(optimizer='adam',\n",
    "              loss='binary_crossentropy',\n",
    "              metrics=['accuracy'])\n",
    "model2.summary()"
   ]
  },
  {
   "cell_type": "markdown",
   "metadata": {},
   "source": [
    "Now let's train the model and compute the test accuracy."
   ]
  },
  {
   "cell_type": "code",
   "execution_count": 11,
   "metadata": {},
   "outputs": [
    {
     "name": "stdout",
     "output_type": "stream",
     "text": [
      "Train on 800 samples, validate on 100 samples\n",
      "Epoch 1/20\n",
      "800/800 [==============================] - 1s 996us/step - loss: 0.6867 - accuracy: 0.5575 - val_loss: 0.7089 - val_accuracy: 0.4400\n",
      "Epoch 2/20\n",
      "800/800 [==============================] - 0s 229us/step - loss: 0.6693 - accuracy: 0.6075 - val_loss: 0.6972 - val_accuracy: 0.4500\n",
      "Epoch 3/20\n",
      "800/800 [==============================] - 0s 224us/step - loss: 0.6089 - accuracy: 0.7437 - val_loss: 0.6425 - val_accuracy: 0.6300\n",
      "Epoch 4/20\n",
      "800/800 [==============================] - 0s 227us/step - loss: 0.4495 - accuracy: 0.8650 - val_loss: 0.5292 - val_accuracy: 0.7700\n",
      "Epoch 5/20\n",
      "800/800 [==============================] - 0s 231us/step - loss: 0.2649 - accuracy: 0.9488 - val_loss: 0.4518 - val_accuracy: 0.7800\n",
      "Epoch 6/20\n",
      "800/800 [==============================] - 0s 227us/step - loss: 0.1493 - accuracy: 0.9775 - val_loss: 0.4163 - val_accuracy: 0.7900\n",
      "Epoch 7/20\n",
      "800/800 [==============================] - 0s 235us/step - loss: 0.0873 - accuracy: 0.9900 - val_loss: 0.4064 - val_accuracy: 0.7900\n",
      "Epoch 8/20\n",
      "800/800 [==============================] - 0s 244us/step - loss: 0.0534 - accuracy: 0.9937 - val_loss: 0.4297 - val_accuracy: 0.7900\n",
      "Epoch 9/20\n",
      "800/800 [==============================] - 0s 228us/step - loss: 0.0361 - accuracy: 0.9975 - val_loss: 0.4238 - val_accuracy: 0.8000\n",
      "Epoch 10/20\n",
      "800/800 [==============================] - 0s 240us/step - loss: 0.0249 - accuracy: 1.0000 - val_loss: 0.4011 - val_accuracy: 0.8100\n",
      "Epoch 11/20\n",
      "800/800 [==============================] - 0s 225us/step - loss: 0.0184 - accuracy: 1.0000 - val_loss: 0.4109 - val_accuracy: 0.8000\n",
      "Epoch 12/20\n",
      "800/800 [==============================] - 0s 227us/step - loss: 0.0136 - accuracy: 1.0000 - val_loss: 0.4139 - val_accuracy: 0.8200\n",
      "Epoch 13/20\n",
      "800/800 [==============================] - 0s 227us/step - loss: 0.0105 - accuracy: 1.0000 - val_loss: 0.4220 - val_accuracy: 0.8100\n",
      "Epoch 14/20\n",
      "800/800 [==============================] - 0s 228us/step - loss: 0.0084 - accuracy: 1.0000 - val_loss: 0.4328 - val_accuracy: 0.8100\n",
      "Epoch 15/20\n",
      "800/800 [==============================] - 0s 237us/step - loss: 0.0068 - accuracy: 1.0000 - val_loss: 0.4526 - val_accuracy: 0.8000\n",
      "Epoch 16/20\n",
      "800/800 [==============================] - 0s 227us/step - loss: 0.0056 - accuracy: 1.0000 - val_loss: 0.4395 - val_accuracy: 0.8300\n",
      "Epoch 17/20\n",
      "800/800 [==============================] - 0s 229us/step - loss: 0.0047 - accuracy: 1.0000 - val_loss: 0.4651 - val_accuracy: 0.8000\n",
      "Epoch 18/20\n",
      "800/800 [==============================] - 0s 233us/step - loss: 0.0040 - accuracy: 1.0000 - val_loss: 0.4631 - val_accuracy: 0.8000\n",
      "Epoch 19/20\n",
      "800/800 [==============================] - 0s 224us/step - loss: 0.0034 - accuracy: 1.0000 - val_loss: 0.4676 - val_accuracy: 0.8000\n",
      "Epoch 20/20\n",
      "800/800 [==============================] - 0s 224us/step - loss: 0.0030 - accuracy: 1.0000 - val_loss: 0.4734 - val_accuracy: 0.8000\n",
      "Testing Accuracy:  0.7200\n"
     ]
    }
   ],
   "source": [
    "model2.fit(xseq_train, y_train, epochs=20, verbose=True, validation_data=(xseq_dev, y_dev), batch_size=10)\n",
    "\n",
    "loss, accuracy = model2.evaluate(xseq_test, y_test, verbose=False)\n",
    "print(\"Testing Accuracy:  {:.4f}\".format(accuracy))"
   ]
  },
  {
   "cell_type": "markdown",
   "metadata": {},
   "source": [
    "You may find that the performance isn't as good as the BOW model. In general, concatenating word embeddings isn't a good way to represent word sequence.\n",
    "\n",
    "A better way is to build a recurrent model. But first, let's extract the word embeddings for the 4 words as before and look at their similarity."
   ]
  },
  {
   "cell_type": "code",
   "execution_count": 12,
   "metadata": {},
   "outputs": [
    {
     "name": "stdout",
     "output_type": "stream",
     "text": [
      "love vs. like = 0.16570625\n",
      "love vs. lukewarm = -0.52500874\n",
      "love vs. bad = -0.8472247\n",
      "lukewarm vs. bad = 0.47169316\n"
     ]
    }
   ],
   "source": [
    "embeddings = model2.get_layer(index=0).get_weights()[0] #word embeddings\n",
    "\n",
    "emb_love = embeddings[tokenizer.word_index[\"love\"]]\n",
    "emb_like = embeddings[tokenizer.word_index[\"like\"]]\n",
    "emb_lukewarm = embeddings[tokenizer.word_index[\"lukewarm\"]]\n",
    "emb_bad = embeddings[tokenizer.word_index[\"bad\"]]\n",
    "\n",
    "print(\"love vs. like =\", cos_sim(emb_love, emb_like))\n",
    "print(\"love vs. lukewarm =\", cos_sim(emb_love, emb_lukewarm))\n",
    "print(\"love vs. bad =\", cos_sim(emb_love, emb_bad))\n",
    "print(\"lukewarm vs. bad =\", cos_sim(emb_lukewarm, emb_bad))"
   ]
  },
  {
   "cell_type": "markdown",
   "metadata": {},
   "source": [
    "Now, let's try to build an LSTM model. After the embeddings layer, the LSTM layer will process the words one at a time, and compute the next state (dimension for the hidden state = 10 in this case). The output of the LSTM layer is the final state, produced after processing the last word, and that will be fed to the output layer."
   ]
  },
  {
   "cell_type": "code",
   "execution_count": 13,
   "metadata": {},
   "outputs": [
    {
     "name": "stdout",
     "output_type": "stream",
     "text": [
      "Model: \"lstm\"\n",
      "_________________________________________________________________\n",
      "Layer (type)                 Output Shape              Param #   \n",
      "=================================================================\n",
      "embedding_2 (Embedding)      (None, 30, 10)            18110     \n",
      "_________________________________________________________________\n",
      "lstm_1 (LSTM)                (None, 10)                840       \n",
      "_________________________________________________________________\n",
      "dense_5 (Dense)              (None, 1)                 11        \n",
      "=================================================================\n",
      "Total params: 18,961\n",
      "Trainable params: 18,961\n",
      "Non-trainable params: 0\n",
      "_________________________________________________________________\n"
     ]
    }
   ],
   "source": [
    "from keras.layers import LSTM\n",
    "\n",
    "#word order preserved with this architecture\n",
    "model3 = Sequential(name=\"lstm\")\n",
    "model3.add(layers.Embedding(input_dim=vocab_size, \n",
    "                           output_dim=embedding_dim, \n",
    "                           input_length=maxlen))\n",
    "model3.add(LSTM(10))\n",
    "model3.add(layers.Dense(1, activation='sigmoid'))\n",
    "model3.compile(optimizer='adam',\n",
    "              loss='binary_crossentropy',\n",
    "              metrics=['accuracy'])\n",
    "model3.summary()"
   ]
  },
  {
   "cell_type": "markdown",
   "metadata": {},
   "source": [
    "Let's train the LSTM model and see the test performance."
   ]
  },
  {
   "cell_type": "code",
   "execution_count": 14,
   "metadata": {},
   "outputs": [
    {
     "name": "stdout",
     "output_type": "stream",
     "text": [
      "Train on 800 samples, validate on 100 samples\n",
      "Epoch 1/20\n",
      "800/800 [==============================] - 3s 4ms/step - loss: 0.6874 - accuracy: 0.5650 - val_loss: 0.7102 - val_accuracy: 0.4400\n",
      "Epoch 2/20\n",
      "800/800 [==============================] - 2s 2ms/step - loss: 0.6835 - accuracy: 0.5650 - val_loss: 0.7281 - val_accuracy: 0.4400\n",
      "Epoch 3/20\n",
      "800/800 [==============================] - 2s 2ms/step - loss: 0.6789 - accuracy: 0.5650 - val_loss: 0.7053 - val_accuracy: 0.4400\n",
      "Epoch 4/20\n",
      "800/800 [==============================] - 2s 2ms/step - loss: 0.5414 - accuracy: 0.7312 - val_loss: 0.5923 - val_accuracy: 0.7600\n",
      "Epoch 5/20\n",
      "800/800 [==============================] - 2s 2ms/step - loss: 0.2884 - accuracy: 0.9200 - val_loss: 0.5111 - val_accuracy: 0.8100\n",
      "Epoch 6/20\n",
      "800/800 [==============================] - 2s 2ms/step - loss: 0.1745 - accuracy: 0.9588 - val_loss: 0.5309 - val_accuracy: 0.8200\n",
      "Epoch 7/20\n",
      "800/800 [==============================] - 2s 2ms/step - loss: 0.1219 - accuracy: 0.9725 - val_loss: 0.5600 - val_accuracy: 0.8100\n",
      "Epoch 8/20\n",
      "800/800 [==============================] - 2s 2ms/step - loss: 0.0882 - accuracy: 0.9850 - val_loss: 0.6066 - val_accuracy: 0.8000\n",
      "Epoch 9/20\n",
      "800/800 [==============================] - 2s 3ms/step - loss: 0.0752 - accuracy: 0.9837 - val_loss: 0.8129 - val_accuracy: 0.7900\n",
      "Epoch 10/20\n",
      "800/800 [==============================] - 2s 2ms/step - loss: 0.0773 - accuracy: 0.9825 - val_loss: 0.7374 - val_accuracy: 0.7700\n",
      "Epoch 11/20\n",
      "800/800 [==============================] - 2s 3ms/step - loss: 0.0413 - accuracy: 0.9925 - val_loss: 0.5551 - val_accuracy: 0.8100\n",
      "Epoch 12/20\n",
      "800/800 [==============================] - 2s 2ms/step - loss: 0.0309 - accuracy: 0.9962 - val_loss: 0.8953 - val_accuracy: 0.7700\n",
      "Epoch 13/20\n",
      "800/800 [==============================] - 2s 2ms/step - loss: 0.0304 - accuracy: 0.9950 - val_loss: 0.8622 - val_accuracy: 0.7800\n",
      "Epoch 14/20\n",
      "800/800 [==============================] - 2s 3ms/step - loss: 0.0224 - accuracy: 0.9975 - val_loss: 0.8574 - val_accuracy: 0.7900\n",
      "Epoch 15/20\n",
      "800/800 [==============================] - 2s 3ms/step - loss: 0.0211 - accuracy: 0.9975 - val_loss: 0.8968 - val_accuracy: 0.7900\n",
      "Epoch 16/20\n",
      "800/800 [==============================] - 3s 3ms/step - loss: 0.0200 - accuracy: 0.9975 - val_loss: 0.9324 - val_accuracy: 0.7900\n",
      "Epoch 17/20\n",
      "800/800 [==============================] - 2s 3ms/step - loss: 0.0193 - accuracy: 0.9975 - val_loss: 0.9621 - val_accuracy: 0.7900\n",
      "Epoch 18/20\n",
      "800/800 [==============================] - 2s 3ms/step - loss: 0.0187 - accuracy: 0.9975 - val_loss: 0.9904 - val_accuracy: 0.7900\n",
      "Epoch 19/20\n",
      "800/800 [==============================] - 2s 3ms/step - loss: 0.0182 - accuracy: 0.9975 - val_loss: 1.0153 - val_accuracy: 0.7900\n",
      "Epoch 20/20\n",
      "800/800 [==============================] - 2s 2ms/step - loss: 0.0179 - accuracy: 0.9975 - val_loss: 1.0382 - val_accuracy: 0.7900\n",
      "Testing Accuracy:  0.7400\n"
     ]
    }
   ],
   "source": [
    "model3.fit(xseq_train, y_train, epochs=20, verbose=True, validation_data=(xseq_dev, y_dev), batch_size=10)\n",
    "\n",
    "loss, accuracy = model3.evaluate(xseq_test, y_test, verbose=False)\n",
    "print(\"Testing Accuracy:  {:.4f}\".format(accuracy))"
   ]
  },
  {
   "cell_type": "markdown",
   "metadata": {},
   "source": [
    "You should notice that the training is quite a bit slower, and that's because now the model has to process the sequence one word at a time. But the results should be better!\n",
    "\n",
    "And lastly, let's extract the embeddings and look at the their similarity."
   ]
  },
  {
   "cell_type": "code",
   "execution_count": 15,
   "metadata": {},
   "outputs": [
    {
     "name": "stdout",
     "output_type": "stream",
     "text": [
      "love vs. like = -0.5440836\n",
      "love vs. lukewarm = -0.84869266\n",
      "love vs. bad = -0.9518575\n",
      "lukewarm vs. bad = 0.8944649\n"
     ]
    }
   ],
   "source": [
    "embeddings = model3.get_layer(index=0).get_weights()[0] #word embeddings\n",
    "\n",
    "emb_love = embeddings[tokenizer.word_index[\"love\"]]\n",
    "emb_like = embeddings[tokenizer.word_index[\"like\"]]\n",
    "emb_lukewarm = embeddings[tokenizer.word_index[\"lukewarm\"]]\n",
    "emb_bad = embeddings[tokenizer.word_index[\"bad\"]]\n",
    "\n",
    "print(\"love vs. like =\", cos_sim(emb_love, emb_like))\n",
    "print(\"love vs. lukewarm =\", cos_sim(emb_love, emb_lukewarm))\n",
    "print(\"love vs. bad =\", cos_sim(emb_love, emb_bad))\n",
    "print(\"lukewarm vs. bad =\", cos_sim(emb_lukewarm, emb_bad))"
   ]
  },
  {
   "cell_type": "code",
   "execution_count": null,
   "metadata": {
    "collapsed": true
   },
   "outputs": [],
   "source": []
  }
 ],
 "metadata": {
  "kernelspec": {
   "display_name": "Python 3",
   "language": "python",
   "name": "python3"
  },
  "language_info": {
   "codemirror_mode": {
    "name": "ipython",
    "version": 3
   },
   "file_extension": ".py",
   "mimetype": "text/x-python",
   "name": "python",
   "nbconvert_exporter": "python",
   "pygments_lexer": "ipython3",
   "version": "3.7.6"
  }
 },
 "nbformat": 4,
 "nbformat_minor": 2
}
