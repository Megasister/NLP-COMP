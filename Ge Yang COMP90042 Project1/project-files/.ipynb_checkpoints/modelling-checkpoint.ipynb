{
 "cells": [
  {
   "cell_type": "code",
   "execution_count": null,
   "metadata": {},
   "outputs": [],
   "source": [
    "import tensorflow as tf\n",
    "import pandas as pd \n",
    "import numpy as np\n",
    "import keras\n",
    "import os\n",
    "import json\n",
    "\n",
    "def get_tweet_text_from_json(file_path):\n",
    "    with open(file_path) as json_file:\n",
    "        data = json.load(json_file)\n",
    "        return data\n",
    "\n",
    "notebook_path = os.path.abspath(\"modelling.ipynb\")\n",
    "train_path = os.path.join(os.path.dirname(notebook_path), \"train.json\")\n",
    "\n",
    "train_data = get_tweet_text_from_json(train_path)"
   ]
  },
  {
   "cell_type": "code",
   "execution_count": null,
   "metadata": {},
   "outputs": [],
   "source": [
    "import nltk\n",
    "from nltk.tokenize import TweetTokenizer\n",
    "from nltk.corpus import stopwords\n",
    "from collections import defaultdict\n",
    "\n",
    "tt = TweetTokenizer()\n",
    "stopwords = set(stopwords.words('english'))\n",
    "\n",
    "def preprocess_events(events):\n",
    "    ###\n",
    "    # Your answer BEGINS HERE\n",
    "    ###\n",
    "    preprocess_events = []\n",
    "    for _ , event in events.items():\n",
    "        event_map = defaultdict(int)\n",
    "        text = event['text']\n",
    "        label = event['label']\n",
    "        print(label)\n",
    "        tokenized_tweet = tt.tokenize(tweet)\n",
    "        tokens_filtered_sw = [word for word in tokenized_tweet if not word.lower() in stopwords]\n",
    "        for word in tokens_filtered_sw:\n",
    "            event_map[word] += 1\n",
    "        \n",
    "        preprocess_events.append(event_map)\n",
    "        \n",
    "    return preprocess_events\n",
    "    ###\n",
    "    # Your answer ENDS HERE\n",
    "    ###\n",
    "\n",
    "preprocessed_rumour_events = preprocess_events(train_data)\n",
    "print(preprocessed_rumour_events)"
   ]
  },
  {
   "cell_type": "code",
   "execution_count": null,
   "metadata": {},
   "outputs": [],
   "source": []
  }
 ],
 "metadata": {
  "kernelspec": {
   "display_name": "Python 3",
   "language": "python",
   "name": "python3"
  },
  "language_info": {
   "codemirror_mode": {
    "name": "ipython",
    "version": 3
   },
   "file_extension": ".py",
   "mimetype": "text/x-python",
   "name": "python",
   "nbconvert_exporter": "python",
   "pygments_lexer": "ipython3",
   "version": "3.7.6"
  }
 },
 "nbformat": 4,
 "nbformat_minor": 2
}
